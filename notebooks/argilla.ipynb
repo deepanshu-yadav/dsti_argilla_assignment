{
 "cells": [
  {
   "cell_type": "code",
   "execution_count": 1,
   "id": "bb024bb3-b5b7-4000-8994-1015257c0824",
   "metadata": {
    "tags": []
   },
   "outputs": [],
   "source": [
    "import argilla as rg\n"
   ]
  },
  {
   "cell_type": "code",
   "execution_count": 2,
   "id": "179cb1a0-afac-439d-9928-cddce5598516",
   "metadata": {
    "tags": []
   },
   "outputs": [],
   "source": [
    "rg.init(\n",
    "    api_url=\"http://localhost:6900\",\n",
    "    # api_key=\"team.apikey\"\n",
    ")"
   ]
  },
  {
   "cell_type": "code",
   "execution_count": 3,
   "id": "ae634e8b-2f34-4db3-8eb5-3fac7a3409fe",
   "metadata": {
    "tags": []
   },
   "outputs": [],
   "source": [
    "import os\n",
    "from json import loads\n",
    "import openai\n",
    "from datasets import load_dataset\n",
    "import pandas as pd\n",
    "from argilla.metrics.text_classification import f1\n",
    "from argilla.metrics.commons import text_length"
   ]
  },
  {
   "cell_type": "code",
   "execution_count": 4,
   "id": "69fc4962-0f6f-4ac9-9b92-db49cc355a14",
   "metadata": {
    "tags": []
   },
   "outputs": [
    {
     "data": {
      "text/html": [
       "<pre style=\"white-space:pre;overflow-x:auto;line-height:normal;font-family:Menlo,'DejaVu Sans Mono',consolas,'Courier New',monospace\"><span style=\"color: #7fbfbf; text-decoration-color: #7fbfbf\">[03/23/23 20:44:59] </span><span style=\"color: #800000; text-decoration-color: #800000\">WARNING </span> WARNING:datasets.builder:Found cached dataset parquet                   <a href=\"file://C:\\Users\\DEEPANSHU\\Documents\\anaconda\\envs\\argilla_assignment\\lib\\site-packages\\datasets\\builder.py\" target=\"_blank\"><span style=\"color: #7f7f7f; text-decoration-color: #7f7f7f\">builder.py</span></a><span style=\"color: #7f7f7f; text-decoration-color: #7f7f7f\">:</span><a href=\"file://C:\\Users\\DEEPANSHU\\Documents\\anaconda\\envs\\argilla_assignment\\lib\\site-packages\\datasets\\builder.py#798\" target=\"_blank\"><span style=\"color: #7f7f7f; text-decoration-color: #7f7f7f\">798</span></a>\n",
       "<span style=\"color: #7fbfbf; text-decoration-color: #7fbfbf\">                    </span>         <span style=\"font-weight: bold\">(</span>C:<span style=\"color: #800080; text-decoration-color: #800080\">/Users/DEEPANSHU/.cache/huggingface/datasets/argilla___parquet/argil</span> <span style=\"color: #7f7f7f; text-decoration-color: #7f7f7f\">              </span>\n",
       "<span style=\"color: #7fbfbf; text-decoration-color: #7fbfbf\">                    </span>         <span style=\"color: #800080; text-decoration-color: #800080\">la--banking_sentiment_setfit-4a60f83f113675bf/0.0.0/</span><span style=\"color: #ff00ff; text-decoration-color: #ff00ff\">2a3b91fbd88a2c90d1d</span> <span style=\"color: #7f7f7f; text-decoration-color: #7f7f7f\">              </span>\n",
       "<span style=\"color: #7fbfbf; text-decoration-color: #7fbfbf\">                    </span>         <span style=\"color: #ff00ff; text-decoration-color: #ff00ff\">bbb32b460cf621d31bd5b05b934492fdef7d8d6f236ec</span><span style=\"font-weight: bold\">)</span>                          <span style=\"color: #7f7f7f; text-decoration-color: #7f7f7f\">              </span>\n",
       "</pre>\n"
      ],
      "text/plain": [
       "\u001b[2;36m[03/23/23 20:44:59]\u001b[0m\u001b[2;36m \u001b[0m\u001b[31mWARNING \u001b[0m WARNING:datasets.builder:Found cached dataset parquet                   \u001b]8;id=147466;file://C:\\Users\\DEEPANSHU\\Documents\\anaconda\\envs\\argilla_assignment\\lib\\site-packages\\datasets\\builder.py\u001b\\\u001b[2mbuilder.py\u001b[0m\u001b]8;;\u001b\\\u001b[2m:\u001b[0m\u001b]8;id=382565;file://C:\\Users\\DEEPANSHU\\Documents\\anaconda\\envs\\argilla_assignment\\lib\\site-packages\\datasets\\builder.py#798\u001b\\\u001b[2m798\u001b[0m\u001b]8;;\u001b\\\n",
       "\u001b[2;36m                    \u001b[0m         \u001b[1m(\u001b[0mC:\u001b[35m/Users/DEEPANSHU/.cache/huggingface/datasets/argilla___parquet/argil\u001b[0m \u001b[2m              \u001b[0m\n",
       "\u001b[2;36m                    \u001b[0m         \u001b[35mla--banking_sentiment_setfit-4a60f83f113675bf/0.0.0/\u001b[0m\u001b[95m2a3b91fbd88a2c90d1d\u001b[0m \u001b[2m              \u001b[0m\n",
       "\u001b[2;36m                    \u001b[0m         \u001b[95mbbb32b460cf621d31bd5b05b934492fdef7d8d6f236ec\u001b[0m\u001b[1m)\u001b[0m                          \u001b[2m              \u001b[0m\n"
      ]
     },
     "metadata": {},
     "output_type": "display_data"
    },
    {
     "data": {
      "application/vnd.jupyter.widget-view+json": {
       "model_id": "e26b96d3e56d4b5991761b5f4d47ac48",
       "version_major": 2,
       "version_minor": 0
      },
      "text/plain": [
       "  0%|          | 0/2 [00:00<?, ?it/s]"
      ]
     },
     "metadata": {},
     "output_type": "display_data"
    },
    {
     "data": {
      "text/html": [
       "<div>\n",
       "<style scoped>\n",
       "    .dataframe tbody tr th:only-of-type {\n",
       "        vertical-align: middle;\n",
       "    }\n",
       "\n",
       "    .dataframe tbody tr th {\n",
       "        vertical-align: top;\n",
       "    }\n",
       "\n",
       "    .dataframe thead th {\n",
       "        text-align: right;\n",
       "    }\n",
       "</style>\n",
       "<table border=\"1\" class=\"dataframe\">\n",
       "  <thead>\n",
       "    <tr style=\"text-align: right;\">\n",
       "      <th></th>\n",
       "      <th>text</th>\n",
       "      <th>label</th>\n",
       "    </tr>\n",
       "  </thead>\n",
       "  <tbody>\n",
       "    <tr>\n",
       "      <th>0</th>\n",
       "      <td>are you sending me my card?</td>\n",
       "      <td>1</td>\n",
       "    </tr>\n",
       "    <tr>\n",
       "      <th>1</th>\n",
       "      <td>Two days ago I did a transfer to another accou...</td>\n",
       "      <td>1</td>\n",
       "    </tr>\n",
       "    <tr>\n",
       "      <th>2</th>\n",
       "      <td>Why didn't I receive the right amount of cash?</td>\n",
       "      <td>0</td>\n",
       "    </tr>\n",
       "    <tr>\n",
       "      <th>3</th>\n",
       "      <td>Is there a reason why my virtual card won't work?</td>\n",
       "      <td>0</td>\n",
       "    </tr>\n",
       "    <tr>\n",
       "      <th>4</th>\n",
       "      <td>Why is my balance the same after a transfer?</td>\n",
       "      <td>1</td>\n",
       "    </tr>\n",
       "    <tr>\n",
       "      <th>5</th>\n",
       "      <td>My money hasn't been transferred yet.</td>\n",
       "      <td>0</td>\n",
       "    </tr>\n",
       "    <tr>\n",
       "      <th>6</th>\n",
       "      <td>It is still pending, I am still waiting. Your ...</td>\n",
       "      <td>0</td>\n",
       "    </tr>\n",
       "    <tr>\n",
       "      <th>7</th>\n",
       "      <td>What are the places that you deliver cards to?</td>\n",
       "      <td>1</td>\n",
       "    </tr>\n",
       "    <tr>\n",
       "      <th>8</th>\n",
       "      <td>Why are my withdrawals suddenly being declined?</td>\n",
       "      <td>1</td>\n",
       "    </tr>\n",
       "    <tr>\n",
       "      <th>9</th>\n",
       "      <td>How do I reset my passcode?</td>\n",
       "      <td>1</td>\n",
       "    </tr>\n",
       "    <tr>\n",
       "      <th>10</th>\n",
       "      <td>I do not see the money I transferred into this...</td>\n",
       "      <td>0</td>\n",
       "    </tr>\n",
       "    <tr>\n",
       "      <th>11</th>\n",
       "      <td>How much will it cost me for a SEPA transfer?</td>\n",
       "      <td>1</td>\n",
       "    </tr>\n",
       "    <tr>\n",
       "      <th>12</th>\n",
       "      <td>Please provide me with the restrictions of the...</td>\n",
       "      <td>1</td>\n",
       "    </tr>\n",
       "    <tr>\n",
       "      <th>13</th>\n",
       "      <td>Can you tell me how to tell where my funds com...</td>\n",
       "      <td>1</td>\n",
       "    </tr>\n",
       "    <tr>\n",
       "      <th>14</th>\n",
       "      <td>I can't get the top-up to work! What's going o...</td>\n",
       "      <td>0</td>\n",
       "    </tr>\n",
       "  </tbody>\n",
       "</table>\n",
       "</div>"
      ],
      "text/plain": [
       "                                                 text  label\n",
       "0                         are you sending me my card?      1\n",
       "1   Two days ago I did a transfer to another accou...      1\n",
       "2      Why didn't I receive the right amount of cash?      0\n",
       "3   Is there a reason why my virtual card won't work?      0\n",
       "4        Why is my balance the same after a transfer?      1\n",
       "5               My money hasn't been transferred yet.      0\n",
       "6   It is still pending, I am still waiting. Your ...      0\n",
       "7      What are the places that you deliver cards to?      1\n",
       "8     Why are my withdrawals suddenly being declined?      1\n",
       "9                         How do I reset my passcode?      1\n",
       "10  I do not see the money I transferred into this...      0\n",
       "11      How much will it cost me for a SEPA transfer?      1\n",
       "12  Please provide me with the restrictions of the...      1\n",
       "13  Can you tell me how to tell where my funds com...      1\n",
       "14  I can't get the top-up to work! What's going o...      0"
      ]
     },
     "execution_count": 4,
     "metadata": {},
     "output_type": "execute_result"
    }
   ],
   "source": [
    "banking_ds = load_dataset(\"argilla/banking_sentiment_setfit\")\n",
    "# preview dataset content\n",
    "banking_ds[\"train\"].to_pandas().head(15)"
   ]
  },
  {
   "cell_type": "code",
   "execution_count": 5,
   "id": "b8333953-c7b5-41d8-81d1-82e2ddcb0263",
   "metadata": {
    "tags": []
   },
   "outputs": [],
   "source": [
    "PROMPT_TEMPLATE = \"\"\"\n",
    "Classify the sentiment of the customer request using the following JSON format. Use positive, negative, and neutral in lowercase:\n",
    "\n",
    "{\"prediction\": sentiment label string, \"explanation\": sentence string describing why you think is the sentiment}\n",
    "\n",
    "Customer request:\n",
    "\n",
    "\"\"\""
   ]
  },
  {
   "cell_type": "code",
   "execution_count": 6,
   "id": "3b2006b6-d2be-4382-9273-17fe60f6aa72",
   "metadata": {
    "tags": []
   },
   "outputs": [
    {
     "data": {
      "text/html": [
       "<pre style=\"white-space:pre;overflow-x:auto;line-height:normal;font-family:Menlo,'DejaVu Sans Mono',consolas,'Courier New',monospace\"><span style=\"color: #7fbfbf; text-decoration-color: #7fbfbf\">[03/23/23 20:45:04] </span><span style=\"color: #800000; text-decoration-color: #800000\">WARNING </span> WARNING:datasets.builder:Found cached dataset parquet                   <a href=\"file://C:\\Users\\DEEPANSHU\\Documents\\anaconda\\envs\\argilla_assignment\\lib\\site-packages\\datasets\\builder.py\" target=\"_blank\"><span style=\"color: #7f7f7f; text-decoration-color: #7f7f7f\">builder.py</span></a><span style=\"color: #7f7f7f; text-decoration-color: #7f7f7f\">:</span><a href=\"file://C:\\Users\\DEEPANSHU\\Documents\\anaconda\\envs\\argilla_assignment\\lib\\site-packages\\datasets\\builder.py#798\" target=\"_blank\"><span style=\"color: #7f7f7f; text-decoration-color: #7f7f7f\">798</span></a>\n",
       "<span style=\"color: #7fbfbf; text-decoration-color: #7fbfbf\">                    </span>         <span style=\"font-weight: bold\">(</span>C:<span style=\"color: #800080; text-decoration-color: #800080\">/Users/DEEPANSHU/.cache/huggingface/datasets/argilla___parquet/argil</span> <span style=\"color: #7f7f7f; text-decoration-color: #7f7f7f\">              </span>\n",
       "<span style=\"color: #7fbfbf; text-decoration-color: #7fbfbf\">                    </span>         <span style=\"color: #800080; text-decoration-color: #800080\">la--banking_sentiment_zs_gpt3-f7d215e9f2846b59/0.0.0/</span><span style=\"color: #ff00ff; text-decoration-color: #ff00ff\">2a3b91fbd88a2c90d1</span> <span style=\"color: #7f7f7f; text-decoration-color: #7f7f7f\">              </span>\n",
       "<span style=\"color: #7fbfbf; text-decoration-color: #7fbfbf\">                    </span>         <span style=\"color: #ff00ff; text-decoration-color: #ff00ff\">dbbb32b460cf621d31bd5b05b934492fdef7d8d6f236ec</span><span style=\"font-weight: bold\">)</span>                         <span style=\"color: #7f7f7f; text-decoration-color: #7f7f7f\">              </span>\n",
       "</pre>\n"
      ],
      "text/plain": [
       "\u001b[2;36m[03/23/23 20:45:04]\u001b[0m\u001b[2;36m \u001b[0m\u001b[31mWARNING \u001b[0m WARNING:datasets.builder:Found cached dataset parquet                   \u001b]8;id=214955;file://C:\\Users\\DEEPANSHU\\Documents\\anaconda\\envs\\argilla_assignment\\lib\\site-packages\\datasets\\builder.py\u001b\\\u001b[2mbuilder.py\u001b[0m\u001b]8;;\u001b\\\u001b[2m:\u001b[0m\u001b]8;id=124547;file://C:\\Users\\DEEPANSHU\\Documents\\anaconda\\envs\\argilla_assignment\\lib\\site-packages\\datasets\\builder.py#798\u001b\\\u001b[2m798\u001b[0m\u001b]8;;\u001b\\\n",
       "\u001b[2;36m                    \u001b[0m         \u001b[1m(\u001b[0mC:\u001b[35m/Users/DEEPANSHU/.cache/huggingface/datasets/argilla___parquet/argil\u001b[0m \u001b[2m              \u001b[0m\n",
       "\u001b[2;36m                    \u001b[0m         \u001b[35mla--banking_sentiment_zs_gpt3-f7d215e9f2846b59/0.0.0/\u001b[0m\u001b[95m2a3b91fbd88a2c90d1\u001b[0m \u001b[2m              \u001b[0m\n",
       "\u001b[2;36m                    \u001b[0m         \u001b[95mdbbb32b460cf621d31bd5b05b934492fdef7d8d6f236ec\u001b[0m\u001b[1m)\u001b[0m                         \u001b[2m              \u001b[0m\n"
      ]
     },
     "metadata": {},
     "output_type": "display_data"
    }
   ],
   "source": [
    "records = load_dataset(\"argilla/banking_sentiment_zs_gpt3\", split=\"train\")\n",
    "# rg.log(records, \"banking_sentiment_zs_gpt3\")"
   ]
  },
  {
   "cell_type": "markdown",
   "id": "3d2c572a",
   "metadata": {},
   "source": [
    "## Copy your api key here."
   ]
  },
  {
   "cell_type": "code",
   "execution_count": 7,
   "id": "5da5d6bd-3194-4c6c-a8a3-2c5983cbf6ae",
   "metadata": {
    "tags": []
   },
   "outputs": [],
   "source": [
    "# set your api key as ENV, for example with Python: os.environ[\"OPENAI_API_KEY\"]\n",
    "openai.api_key = \"COPY HERE\"\n",
    "\n",
    "\n",
    "\n",
    "def classify(text):\n",
    "    # build prompt with template and input\n",
    "    prompt = f\"{PROMPT_TEMPLATE}\\n{text}\\n\"\n",
    "    # use create completion template\n",
    "    completion = openai.Completion.create(\n",
    "      model=\"text-davinci-003\",\n",
    "      prompt=prompt,\n",
    "      temperature=0,\n",
    "      max_tokens=256\n",
    "    )\n",
    "    # get first choice text\n",
    "    json_response = completion[\"choices\"][0][\"text\"].strip()\n",
    "    try:\n",
    "        prediction = loads(json_response)\n",
    "    except:\n",
    "        # for some examples, json is not correctly formatted\n",
    "        return {\"prediction\": None, \"explanation\": f\"Wrong JSON format: {json_response}\" }\n",
    "    return prediction"
   ]
  },
  {
   "cell_type": "code",
   "execution_count": 8,
   "id": "306a64d1-be5d-419f-9078-ed8cb44a991d",
   "metadata": {
    "tags": []
   },
   "outputs": [],
   "source": [
    "# let's predict over the test set to eval our zero-shot classifier\n",
    "test_ds_with_preds = [classify(example) for example in banking_ds[\"test\"]['text'] ]\n",
    "\n",
    "pd.set_option('display.max_colwidth', None)\n",
    "test_ds_with_preds = pd.DataFrame(test_ds_with_preds)\n",
    "# test_ds_with_preds.to_pandas().head(15)"
   ]
  },
  {
   "cell_type": "code",
   "execution_count": 13,
   "id": "c7c95a7e",
   "metadata": {},
   "outputs": [
    {
     "data": {
      "text/html": [
       "<div>\n",
       "<style scoped>\n",
       "    .dataframe tbody tr th:only-of-type {\n",
       "        vertical-align: middle;\n",
       "    }\n",
       "\n",
       "    .dataframe tbody tr th {\n",
       "        vertical-align: top;\n",
       "    }\n",
       "\n",
       "    .dataframe thead th {\n",
       "        text-align: right;\n",
       "    }\n",
       "</style>\n",
       "<table border=\"1\" class=\"dataframe\">\n",
       "  <thead>\n",
       "    <tr style=\"text-align: right;\">\n",
       "      <th></th>\n",
       "      <th>prediction</th>\n",
       "      <th>explanation</th>\n",
       "    </tr>\n",
       "  </thead>\n",
       "  <tbody>\n",
       "    <tr>\n",
       "      <th>0</th>\n",
       "      <td>negative</td>\n",
       "      <td>The customer is expressing dissatisfaction with their card payment having the wrong exchange rate, indicating a negative sentiment.</td>\n",
       "    </tr>\n",
       "    <tr>\n",
       "      <th>1</th>\n",
       "      <td>neutral</td>\n",
       "      <td>The customer is expressing a belief, but not expressing any sentiment about the situation.</td>\n",
       "    </tr>\n",
       "    <tr>\n",
       "      <th>2</th>\n",
       "      <td>negative</td>\n",
       "      <td>The customer is expressing frustration and confusion about being charged for getting cash, indicating a negative sentiment.</td>\n",
       "    </tr>\n",
       "    <tr>\n",
       "      <th>3</th>\n",
       "      <td>negative</td>\n",
       "      <td>The customer is expressing frustration and urgency due to the delay in their cash being available, indicating a negative sentiment.</td>\n",
       "    </tr>\n",
       "    <tr>\n",
       "      <th>4</th>\n",
       "      <td>neutral</td>\n",
       "      <td>The customer is simply asking a question and does not express any sentiment.</td>\n",
       "    </tr>\n",
       "    <tr>\n",
       "      <th>5</th>\n",
       "      <td>neutral</td>\n",
       "      <td>The customer is simply asking a question and does not express any sentiment.</td>\n",
       "    </tr>\n",
       "    <tr>\n",
       "      <th>6</th>\n",
       "      <td>negative</td>\n",
       "      <td>The customer is expressing concern about a fraudulent charge on their account, indicating a negative sentiment.</td>\n",
       "    </tr>\n",
       "    <tr>\n",
       "      <th>7</th>\n",
       "      <td>neutral</td>\n",
       "      <td>The customer is asking a question without expressing any sentiment.</td>\n",
       "    </tr>\n",
       "    <tr>\n",
       "      <th>8</th>\n",
       "      <td>negative</td>\n",
       "      <td>The customer is expressing frustration with an issue that has not been resolved, indicating a negative sentiment.</td>\n",
       "    </tr>\n",
       "    <tr>\n",
       "      <th>9</th>\n",
       "      <td>negative</td>\n",
       "      <td>The customer is expressing frustration with the slow processing of their check deposit, indicating a negative sentiment.</td>\n",
       "    </tr>\n",
       "    <tr>\n",
       "      <th>10</th>\n",
       "      <td>negative</td>\n",
       "      <td>The customer is expressing frustration with not being able to access money from the ATM, indicating a negative sentiment.</td>\n",
       "    </tr>\n",
       "    <tr>\n",
       "      <th>11</th>\n",
       "      <td>negative</td>\n",
       "      <td>The customer is expressing concern and worry about the possibility of someone having access to their account, indicating a negative sentiment.</td>\n",
       "    </tr>\n",
       "    <tr>\n",
       "      <th>12</th>\n",
       "      <td>neutral</td>\n",
       "      <td>The customer is making a request for a service, which does not indicate any sentiment.</td>\n",
       "    </tr>\n",
       "    <tr>\n",
       "      <th>13</th>\n",
       "      <td>neutral</td>\n",
       "      <td>The customer is asking a question without expressing any sentiment.</td>\n",
       "    </tr>\n",
       "    <tr>\n",
       "      <th>14</th>\n",
       "      <td>negative</td>\n",
       "      <td>The customer is expressing frustration with being charged twice for the same purchase, indicating a negative sentiment.</td>\n",
       "    </tr>\n",
       "    <tr>\n",
       "      <th>15</th>\n",
       "      <td>neutral</td>\n",
       "      <td>The customer is asking a question without expressing any sentiment.</td>\n",
       "    </tr>\n",
       "    <tr>\n",
       "      <th>16</th>\n",
       "      <td>neutral</td>\n",
       "      <td>The customer is asking a factual question and does not express any sentiment.</td>\n",
       "    </tr>\n",
       "    <tr>\n",
       "      <th>17</th>\n",
       "      <td>neutral</td>\n",
       "      <td>The customer is asking a question without expressing any sentiment.</td>\n",
       "    </tr>\n",
       "    <tr>\n",
       "      <th>18</th>\n",
       "      <td>neutral</td>\n",
       "      <td>The customer is asking a question without expressing any sentiment.</td>\n",
       "    </tr>\n",
       "    <tr>\n",
       "      <th>19</th>\n",
       "      <td>negative</td>\n",
       "      <td>The customer is expressing frustration and disappointment due to their items being stolen, indicating a negative sentiment.</td>\n",
       "    </tr>\n",
       "    <tr>\n",
       "      <th>20</th>\n",
       "      <td>neutral</td>\n",
       "      <td>The customer is asking a factual question and does not express any sentiment.</td>\n",
       "    </tr>\n",
       "    <tr>\n",
       "      <th>21</th>\n",
       "      <td>negative</td>\n",
       "      <td>The customer's request indicates frustration and disappointment that their attempt to get cash from the ATM was unsuccessful.</td>\n",
       "    </tr>\n",
       "    <tr>\n",
       "      <th>22</th>\n",
       "      <td>neutral</td>\n",
       "      <td>The customer is simply asking a question and does not express any sentiment.</td>\n",
       "    </tr>\n",
       "    <tr>\n",
       "      <th>23</th>\n",
       "      <td>neutral</td>\n",
       "      <td>The customer is asking a question and does not express any sentiment.</td>\n",
       "    </tr>\n",
       "    <tr>\n",
       "      <th>24</th>\n",
       "      <td>neutral</td>\n",
       "      <td>The customer is asking a factual question and does not express any sentiment.</td>\n",
       "    </tr>\n",
       "    <tr>\n",
       "      <th>25</th>\n",
       "      <td>neutral</td>\n",
       "      <td>The customer is simply asking a question and does not express any sentiment.</td>\n",
       "    </tr>\n",
       "    <tr>\n",
       "      <th>26</th>\n",
       "      <td>neutral</td>\n",
       "      <td>The customer is asking a factual question and does not express any sentiment.</td>\n",
       "    </tr>\n",
       "    <tr>\n",
       "      <th>27</th>\n",
       "      <td>neutral</td>\n",
       "      <td>The customer is asking a question rather than expressing an opinion, so the sentiment is neutral.</td>\n",
       "    </tr>\n",
       "    <tr>\n",
       "      <th>28</th>\n",
       "      <td>negative</td>\n",
       "      <td>The customer experienced an error when attempting to top up, indicating a negative sentiment.</td>\n",
       "    </tr>\n",
       "    <tr>\n",
       "      <th>29</th>\n",
       "      <td>neutral</td>\n",
       "      <td>The customer is simply asking for information and does not express any sentiment.</td>\n",
       "    </tr>\n",
       "    <tr>\n",
       "      <th>30</th>\n",
       "      <td>negative</td>\n",
       "      <td>The customer is expressing dissatisfaction with the extra fee they received.</td>\n",
       "    </tr>\n",
       "    <tr>\n",
       "      <th>31</th>\n",
       "      <td>neutral</td>\n",
       "      <td>The customer is making a request for assistance, which does not indicate a positive or negative sentiment.</td>\n",
       "    </tr>\n",
       "    <tr>\n",
       "      <th>32</th>\n",
       "      <td>negative</td>\n",
       "      <td>The customer was unable to get the cash they needed from the ATM, indicating a negative sentiment.</td>\n",
       "    </tr>\n",
       "    <tr>\n",
       "      <th>33</th>\n",
       "      <td>neutral</td>\n",
       "      <td>The customer is asking a question without expressing any sentiment.</td>\n",
       "    </tr>\n",
       "    <tr>\n",
       "      <th>34</th>\n",
       "      <td>neutral</td>\n",
       "      <td>The customer is asking a question without expressing any sentiment.</td>\n",
       "    </tr>\n",
       "    <tr>\n",
       "      <th>35</th>\n",
       "      <td>neutral</td>\n",
       "      <td>The customer is asking a question rather than expressing a sentiment, so the sentiment is neutral.</td>\n",
       "    </tr>\n",
       "  </tbody>\n",
       "</table>\n",
       "</div>"
      ],
      "text/plain": [
       "   prediction  \\\n",
       "0    negative   \n",
       "1     neutral   \n",
       "2    negative   \n",
       "3    negative   \n",
       "4     neutral   \n",
       "5     neutral   \n",
       "6    negative   \n",
       "7     neutral   \n",
       "8    negative   \n",
       "9    negative   \n",
       "10   negative   \n",
       "11   negative   \n",
       "12    neutral   \n",
       "13    neutral   \n",
       "14   negative   \n",
       "15    neutral   \n",
       "16    neutral   \n",
       "17    neutral   \n",
       "18    neutral   \n",
       "19   negative   \n",
       "20    neutral   \n",
       "21   negative   \n",
       "22    neutral   \n",
       "23    neutral   \n",
       "24    neutral   \n",
       "25    neutral   \n",
       "26    neutral   \n",
       "27    neutral   \n",
       "28   negative   \n",
       "29    neutral   \n",
       "30   negative   \n",
       "31    neutral   \n",
       "32   negative   \n",
       "33    neutral   \n",
       "34    neutral   \n",
       "35    neutral   \n",
       "\n",
       "                                                                                                                                       explanation  \n",
       "0              The customer is expressing dissatisfaction with their card payment having the wrong exchange rate, indicating a negative sentiment.  \n",
       "1                                                       The customer is expressing a belief, but not expressing any sentiment about the situation.  \n",
       "2                      The customer is expressing frustration and confusion about being charged for getting cash, indicating a negative sentiment.  \n",
       "3              The customer is expressing frustration and urgency due to the delay in their cash being available, indicating a negative sentiment.  \n",
       "4                                                                     The customer is simply asking a question and does not express any sentiment.  \n",
       "5                                                                     The customer is simply asking a question and does not express any sentiment.  \n",
       "6                                  The customer is expressing concern about a fraudulent charge on their account, indicating a negative sentiment.  \n",
       "7                                                                              The customer is asking a question without expressing any sentiment.  \n",
       "8                                The customer is expressing frustration with an issue that has not been resolved, indicating a negative sentiment.  \n",
       "9                         The customer is expressing frustration with the slow processing of their check deposit, indicating a negative sentiment.  \n",
       "10                       The customer is expressing frustration with not being able to access money from the ATM, indicating a negative sentiment.  \n",
       "11  The customer is expressing concern and worry about the possibility of someone having access to their account, indicating a negative sentiment.  \n",
       "12                                                          The customer is making a request for a service, which does not indicate any sentiment.  \n",
       "13                                                                             The customer is asking a question without expressing any sentiment.  \n",
       "14                         The customer is expressing frustration with being charged twice for the same purchase, indicating a negative sentiment.  \n",
       "15                                                                             The customer is asking a question without expressing any sentiment.  \n",
       "16                                                                   The customer is asking a factual question and does not express any sentiment.  \n",
       "17                                                                             The customer is asking a question without expressing any sentiment.  \n",
       "18                                                                             The customer is asking a question without expressing any sentiment.  \n",
       "19                     The customer is expressing frustration and disappointment due to their items being stolen, indicating a negative sentiment.  \n",
       "20                                                                   The customer is asking a factual question and does not express any sentiment.  \n",
       "21                   The customer's request indicates frustration and disappointment that their attempt to get cash from the ATM was unsuccessful.  \n",
       "22                                                                    The customer is simply asking a question and does not express any sentiment.  \n",
       "23                                                                           The customer is asking a question and does not express any sentiment.  \n",
       "24                                                                   The customer is asking a factual question and does not express any sentiment.  \n",
       "25                                                                    The customer is simply asking a question and does not express any sentiment.  \n",
       "26                                                                   The customer is asking a factual question and does not express any sentiment.  \n",
       "27                                               The customer is asking a question rather than expressing an opinion, so the sentiment is neutral.  \n",
       "28                                                   The customer experienced an error when attempting to top up, indicating a negative sentiment.  \n",
       "29                                                               The customer is simply asking for information and does not express any sentiment.  \n",
       "30                                                                    The customer is expressing dissatisfaction with the extra fee they received.  \n",
       "31                                      The customer is making a request for assistance, which does not indicate a positive or negative sentiment.  \n",
       "32                                              The customer was unable to get the cash they needed from the ATM, indicating a negative sentiment.  \n",
       "33                                                                             The customer is asking a question without expressing any sentiment.  \n",
       "34                                                                             The customer is asking a question without expressing any sentiment.  \n",
       "35                                              The customer is asking a question rather than expressing a sentiment, so the sentiment is neutral.  "
      ]
     },
     "execution_count": 13,
     "metadata": {},
     "output_type": "execute_result"
    }
   ],
   "source": [
    "test_ds_with_preds"
   ]
  },
  {
   "cell_type": "code",
   "execution_count": 9,
   "id": "bba34746",
   "metadata": {},
   "outputs": [],
   "source": [
    "# print(banking_ds[\"test\"]['text'][:10])"
   ]
  },
  {
   "cell_type": "code",
   "execution_count": 17,
   "id": "de905f07-dad5-4a63-8b02-0a7473c335ad",
   "metadata": {},
   "outputs": [
    {
     "data": {
      "text/html": [
       "<pre style=\"white-space:pre;overflow-x:auto;line-height:normal;font-family:Menlo,'DejaVu Sans Mono',consolas,'Courier New',monospace\"></pre>\n"
      ],
      "text/plain": [
       "\u001b[?25l"
      ]
     },
     "metadata": {},
     "output_type": "display_data"
    },
    {
     "data": {
      "application/vnd.jupyter.widget-view+json": {
       "model_id": "e751de3993ea4b1493e224d67897f9b5",
       "version_major": 2,
       "version_minor": 0
      },
      "text/plain": [
       "Output()"
      ]
     },
     "metadata": {},
     "output_type": "display_data"
    },
    {
     "data": {
      "text/html": [
       "<pre style=\"white-space:pre;overflow-x:auto;line-height:normal;font-family:Menlo,'DejaVu Sans Mono',consolas,'Courier New',monospace\">\n",
       "</pre>\n"
      ],
      "text/plain": [
       "\n",
       "\u001b[?25h"
      ]
     },
     "metadata": {},
     "output_type": "display_data"
    },
    {
     "data": {
      "text/html": [
       "<pre style=\"white-space:pre;overflow-x:auto;line-height:normal;font-family:Menlo,'DejaVu Sans Mono',consolas,'Courier New',monospace\"><span style=\"color: #008080; text-decoration-color: #008080; font-weight: bold\">36</span> records logged to <a href=\"http://localhost:6900/datasets/argilla/banking_sentiment_zs_gpt3\" target=\"_blank\"><span style=\"color: #0000ff; text-decoration-color: #0000ff; text-decoration: underline\">http://localhost:6900/datasets/argilla/banking_sentiment_zs_gpt3</span></a>\n",
       "</pre>\n"
      ],
      "text/plain": [
       "\u001b[1;36m36\u001b[0m records logged to \u001b]8;id=923912;http://localhost:6900/datasets/argilla/banking_sentiment_zs_gpt3\u001b\\\u001b[4;94mhttp://localhost:6900/datasets/argilla/banking_sentiment_zs_gpt3\u001b[0m\u001b]8;;\u001b\\\n"
      ]
     },
     "metadata": {},
     "output_type": "display_data"
    },
    {
     "data": {
      "text/plain": [
       "BulkResponse(dataset='banking_sentiment_zs_gpt3', processed=36, failed=0)"
      ]
     },
     "execution_count": 17,
     "metadata": {},
     "output_type": "execute_result"
    }
   ],
   "source": [
    "import argilla as rg\n",
    "\n",
    "# get the label strings to turn int ids into string names\n",
    "labels = banking_ds[\"test\"].features[\"label\"].names\n",
    "\n",
    "records = []\n",
    "for index, example in test_ds_with_preds.iterrows():\n",
    "    # create a record with ground-truth annotations and gpt-3 predictions\n",
    "    record = rg.TextClassificationRecord(\n",
    "        inputs={\"explanation\": example[\"explanation\"]},\n",
    "        # annotation=labels[example[\"label\"]],\n",
    "        prediction=[(example[\"prediction\"].lower(), 1.0)]\n",
    "    )\n",
    "    records.append(record)\n",
    "\n",
    "# create a dataset in Argilla\n",
    "rg.log(records, \"banking_sentiment_zs_gpt3\")"
   ]
  },
  {
   "cell_type": "code",
   "execution_count": null,
   "id": "08943455",
   "metadata": {},
   "outputs": [],
   "source": []
  }
 ],
 "metadata": {
  "kernelspec": {
   "display_name": "Python 3 (ipykernel)",
   "language": "python",
   "name": "python3"
  },
  "language_info": {
   "codemirror_mode": {
    "name": "ipython",
    "version": 3
   },
   "file_extension": ".py",
   "mimetype": "text/x-python",
   "name": "python",
   "nbconvert_exporter": "python",
   "pygments_lexer": "ipython3",
   "version": "3.9.16"
  }
 },
 "nbformat": 4,
 "nbformat_minor": 5
}
